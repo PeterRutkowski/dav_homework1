{
  "nbformat": 4,
  "nbformat_minor": 0,
  "metadata": {
    "colab": {
      "name": "merge_mappers.ipynb",
      "provenance": [],
      "collapsed_sections": [],
      "machine_shape": "hm",
      "mount_file_id": "1xfbHrUknZgbq0nOoq-xBRBkzDosmIjCp",
      "authorship_tag": "ABX9TyPy1yrkRPrAYjNCyYw04uCE",
      "include_colab_link": true
    },
    "kernelspec": {
      "name": "python3",
      "display_name": "Python 3"
    }
  },
  "cells": [
    {
      "cell_type": "markdown",
      "metadata": {
        "id": "view-in-github",
        "colab_type": "text"
      },
      "source": [
        "<a href=\"https://colab.research.google.com/github/PeterRutkowski/dav-homework1/blob/master/merge_mappers.ipynb\" target=\"_parent\"><img src=\"https://colab.research.google.com/assets/colab-badge.svg\" alt=\"Open In Colab\"/></a>"
      ]
    },
    {
      "cell_type": "code",
      "metadata": {
        "id": "fIUPeRcz8QRw",
        "colab_type": "code",
        "colab": {}
      },
      "source": [
        "import pandas as pd\n",
        "import numpy as np\n",
        "\n",
        "import sklearn\n",
        "from sklearn.neighbors import NearestNeighbors\n",
        "from sklearn.pipeline import Pipeline\n",
        "from sklearn.cluster import DBSCAN, KMeans\n",
        "from sklearn.decomposition import PCA\n",
        "\n",
        "!pip install giotto-tda\n",
        "from gtda.mapper import *\n",
        "import pickle"
      ],
      "execution_count": 0,
      "outputs": []
    },
    {
      "cell_type": "code",
      "metadata": {
        "colab_type": "code",
        "id": "k2g2KQOwouIg",
        "colab": {}
      },
      "source": [
        "class MyPCA(sklearn.decomposition.PCA):\n",
        "    def fit_transform(self, X):\n",
        "        return super().transform(X)\n",
        "    def fit_transform(self, X, y=None):\n",
        "        return super().transform(X)"
      ],
      "execution_count": 0,
      "outputs": []
    },
    {
      "cell_type": "code",
      "metadata": {
        "colab_type": "code",
        "id": "dvlEQETootzM",
        "colab": {}
      },
      "source": [
        "class LatentRep():\n",
        "    #assumes that all proj in self.projs have .transform() method\n",
        "    def __init__(self, projectors, label):\n",
        "        self.projectors = projectors\n",
        "        self.label = label\n",
        "    def transform(self, X):\n",
        "        rep = []\n",
        "        for proj in self.projectors:\n",
        "            rep.append( proj.transform(X) )\n",
        "            #merge all projectors into one vector\n",
        "            return np.hstack(rep)"
      ],
      "execution_count": 0,
      "outputs": []
    },
    {
      "cell_type": "code",
      "metadata": {
        "id": "ecQ9WR-67Ped",
        "colab_type": "code",
        "colab": {}
      },
      "source": [
        "def prepare_labels(labels):\n",
        "  label_mapping = np.load('drive/My Drive/tiny-imagenet-200/data/label_mapping.npy')\n",
        "  unique_labels = label_mapping[:,0].tolist()\n",
        "\n",
        "  label_template = []\n",
        "  for i in range(len(labels)):\n",
        "    label_index = unique_labels.index(labels[i])\n",
        "    label = label_mapping[label_index][1]\n",
        "    label_template.append([i, label, label])\n",
        "\n",
        "  label_template = np.float64(label_template)\n",
        "  label_template = np.asarray(label_template)\n",
        "  return label_template"
      ],
      "execution_count": 0,
      "outputs": []
    },
    {
      "cell_type": "code",
      "metadata": {
        "id": "e2BjCTOf0iSI",
        "colab_type": "code",
        "colab": {}
      },
      "source": [
        "def import_mapper(cluster_index, n_components=15):\n",
        "  label = 'PCA_ncomp%d_clus%d' % (n_components, cluster_index)\n",
        "\n",
        "  frin = open('drive/My Drive/tiny-imagenet-200/PCA_15/%s_latent_rep' % (label), 'rb')\n",
        "  rep = pickle.load(frin)\n",
        "\n",
        "  fgin = open('drive/My Drive/tiny-imagenet-200/PCA_15/%s_firstsimplegap_graphs' % (label), 'rb')\n",
        "  graphs = pickle.load(fgin)\n",
        "\n",
        "  fpin = open('drive/My Drive/tiny-imagenet-200/PCA_15/%s_mapper_pipes' % (label), 'rb')\n",
        "  mapper_pipes = pickle.load(fpin)\n",
        "\n",
        "  data = np.load('drive/My Drive/tiny-imagenet-200/data/train_cluster_%d.npy' % (cluster_index))\n",
        "  labels = np.load('drive/My Drive/tiny-imagenet-200/data/train_labels_%d.npy' % (cluster_index))\n",
        "\n",
        "  labels = prepare_labels(labels)\n",
        "\n",
        "  return np.float64(data), labels, rep, graphs, mapper_pipes"
      ],
      "execution_count": 0,
      "outputs": []
    },
    {
      "cell_type": "code",
      "metadata": {
        "id": "yUS4H3EU04uY",
        "colab_type": "code",
        "colab": {}
      },
      "source": [
        "#an algorithm for binarizing training points using\n",
        "#the computed graph representation\n",
        "#computes and outputs a CSV file with all training\n",
        "#points representations , used for training a \n",
        "#NeuralNet classifier in the next step.\n",
        "def binarize_training_points(labels, graphs, mapper_index, cluster_index, n_components=15):\n",
        "  total_graphbin = []\n",
        "  total_graphbin.append(labels)\n",
        "\n",
        "  data_len = 25000\n",
        "  featlen = 0\n",
        "  for comp in range(n_components):\n",
        "    graph = graphs[comp]\n",
        "    nrnodes = len(graph['node_metadata']['node_id'])\n",
        "    graphbin = np.zeros((data_len, nrnodes), dtype=int)\n",
        "    for node in range(nrnodes):\n",
        "      for pt in graph['node_metadata']['node_elements'][node]:\n",
        "        graphbin[pt][node] = 1\n",
        "        \n",
        "    stamp = str(comp+1)\n",
        "    total_graphbin.append(graphbin)\n",
        "    featlen += graphbin.shape[1]\n",
        "      \n",
        "  total_graphbinm = np.hstack(total_graphbin)\n",
        "  print(total_graphbinm.shape)\n",
        "  label = \"mapper%d_cluster%d\" % (mapper_index, cluster_index)\n",
        "  np.save('drive/My Drive/tiny-imagenet-200/PCA_15/matrix_train_%s.npy' % (label), total_graphbinm)\n",
        "  print('feature vec length=%d' % featlen)\n",
        "\n",
        "        \n",
        "  return featlen"
      ],
      "execution_count": 0,
      "outputs": []
    },
    {
      "cell_type": "code",
      "metadata": {
        "id": "2x7rrnlBJJHf",
        "colab_type": "code",
        "outputId": "1561c8de-2314-43ae-bd25-42bf9da26a38",
        "colab": {
          "base_uri": "https://localhost:8080/",
          "height": 51
        }
      },
      "source": [
        "x_train_1, labels_1, latent_rep_1, graphs_1, mapper_pipes_1 = import_mapper(1)\n",
        "featlen_1 = binarize_training_points(labels_1, graphs_1, mapper_index=1, cluster_index=1)"
      ],
      "execution_count": 7,
      "outputs": [
        {
          "output_type": "stream",
          "text": [
            "(25000, 5305)\n",
            "feature vec length=5302\n"
          ],
          "name": "stdout"
        }
      ]
    },
    {
      "cell_type": "code",
      "metadata": {
        "id": "uPOHvla9Ukt8",
        "colab_type": "code",
        "colab": {
          "base_uri": "https://localhost:8080/",
          "height": 34
        },
        "outputId": "7a64a3cb-203f-45f4-87a6-421444e8bab7"
      },
      "source": [
        "print(type(x_train_1[0][6]))\n",
        "print(type(labels_1[5][1]))"
      ],
      "execution_count": 8,
      "outputs": [
        {
          "output_type": "stream",
          "text": [
            "<class 'numpy.float64'>\n"
          ],
          "name": "stdout"
        }
      ]
    },
    {
      "cell_type": "code",
      "metadata": {
        "id": "BHzSO3I1much",
        "colab_type": "code",
        "outputId": "bcbc573b-0133-4b35-ad45-f85fd999095a",
        "colab": {
          "base_uri": "https://localhost:8080/",
          "height": 51
        }
      },
      "source": [
        "x_train_2, labels_2, latent_rep_2, graphs_2, mapper_pipes_2 = import_mapper(2)\n",
        "featlen_2 = binarize_training_points(labels_2, graphs_2, mapper_index=2, cluster_index=2)"
      ],
      "execution_count": 10,
      "outputs": [
        {
          "output_type": "stream",
          "text": [
            "(25000, 5309)\n",
            "feature vec length=5306\n"
          ],
          "name": "stdout"
        }
      ]
    },
    {
      "cell_type": "code",
      "metadata": {
        "id": "sSMtg_-_kO9W",
        "colab_type": "code",
        "outputId": "b1aefa5f-5629-45b2-e926-dc000a827e4b",
        "colab": {
          "base_uri": "https://localhost:8080/",
          "height": 51
        }
      },
      "source": [
        "x_train_3, labels_3, latent_rep_3, graphs_3, mapper_pipes_3 = import_mapper(3)\n",
        "featlen_3 = binarize_training_points(labels_3, graphs_3, mapper_index=3, cluster_index=3)"
      ],
      "execution_count": 11,
      "outputs": [
        {
          "output_type": "stream",
          "text": [
            "(25000, 5309)\n",
            "feature vec length=5306\n"
          ],
          "name": "stdout"
        }
      ]
    },
    {
      "cell_type": "code",
      "metadata": {
        "id": "jNfgrbzpkTG6",
        "colab_type": "code",
        "outputId": "289488e9-a8b1-4d81-f925-b222174249c7",
        "colab": {
          "base_uri": "https://localhost:8080/",
          "height": 51
        }
      },
      "source": [
        "x_train_4, labels_4, latent_rep_4, graphs_4, mapper_pipes_4 = import_mapper(4)\n",
        "featlen_4 = binarize_training_points(labels_4, graphs_4, mapper_index=4, cluster_index=4)"
      ],
      "execution_count": 12,
      "outputs": [
        {
          "output_type": "stream",
          "text": [
            "(25000, 5305)\n",
            "feature vec length=5302\n"
          ],
          "name": "stdout"
        }
      ]
    },
    {
      "cell_type": "code",
      "metadata": {
        "colab_type": "code",
        "id": "LN0qDhwQ6NaQ",
        "colab": {}
      },
      "source": [
        "# NOT USED NOW\n",
        "# compute ranges of features in feature vectors\n",
        "# corresponding to particular filters\n",
        "def feature_ranges(graphs, n_components=15):\n",
        "  featureranges = []\n",
        "  cursum = 0\n",
        "\n",
        "  for i in range(n_components):\n",
        "      graph = graphs[i]\n",
        "      curlen = len( graph['node_metadata']['node_id'] )\n",
        "      print('component %d, len=%d' % (i, curlen) )\n",
        "      featureranges.append( (cursum, cursum + curlen - 1) )\n",
        "      cursum += curlen    \n",
        "  print(featureranges)"
      ],
      "execution_count": 0,
      "outputs": []
    },
    {
      "cell_type": "markdown",
      "metadata": {
        "id": "tk2lOB966e3y",
        "colab_type": "text"
      },
      "source": [
        "TESTING\n",
        "\n",
        "---\n",
        "\n"
      ]
    },
    {
      "cell_type": "code",
      "metadata": {
        "id": "ZJr97fnS6eK_",
        "colab_type": "code",
        "outputId": "448fb5b8-ccbe-47e5-f435-2808ef2c117c",
        "colab": {
          "base_uri": "https://localhost:8080/",
          "height": 51
        }
      },
      "source": [
        "x_train_1, labels_1, latent_rep_1, graphs_1, mapper_pipes_1 = import_mapper(1)\n",
        "x_train_2, labels_2, latent_rep_2, graphs_2, mapper_pipes_2 = import_mapper(2)\n",
        "x_train_3, labels_3, latent_rep_3, graphs_3, mapper_pipes_3 = import_mapper(3)\n",
        "x_train_4, labels_4, latent_rep_4, graphs_4, mapper_pipes_4 = import_mapper(4)\n",
        "print(x_train_1.shape, x_train_2.shape, x_train_3.shape, x_train_4.shape)\n",
        "print(labels_1.shape, labels_2.shape, labels_3.shape, labels_4.shape)"
      ],
      "execution_count": 14,
      "outputs": [
        {
          "output_type": "stream",
          "text": [
            "(25000, 12288) (25000, 12288) (25000, 12288) (25000, 12288)\n",
            "(25000, 3) (25000, 3) (25000, 3) (25000, 3)\n"
          ],
          "name": "stdout"
        }
      ]
    },
    {
      "cell_type": "code",
      "metadata": {
        "id": "N8wsyt_f6mOU",
        "colab_type": "code",
        "colab": {}
      },
      "source": [
        "def find_alphas(val, intervals, delta = 0.1):\n",
        "  alphas = []\n",
        "  if val < intervals[0][1]:\n",
        "    return tuple([0])\n",
        "  if val > intervals[-1][0]:\n",
        "    return tuple([len(intervals)-1])\n",
        "  for n, intv in enumerate(intervals):\n",
        "    midv = (intv[0] + intv[1]) / 2\n",
        "    if abs(val - midv) < abs(intv[1] - intv[0])*(1 + delta) / 2:\n",
        "      alphas.append(n)\n",
        "  return tuple(alphas)"
      ],
      "execution_count": 0,
      "outputs": []
    },
    {
      "cell_type": "markdown",
      "metadata": {
        "id": "yTm8BmW_budN",
        "colab_type": "text"
      },
      "source": [
        "ISSUES BELOW"
      ]
    },
    {
      "cell_type": "code",
      "metadata": {
        "id": "VVdMbGRWbdE9",
        "colab_type": "code",
        "colab": {}
      },
      "source": [
        "mapper_index = 1\n",
        "test_index = 1\n",
        "featlen_mapper = featlen_1"
      ],
      "execution_count": 0,
      "outputs": []
    },
    {
      "cell_type": "code",
      "metadata": {
        "id": "up9VrmgmbtQ4",
        "colab_type": "code",
        "colab": {
          "base_uri": "https://localhost:8080/",
          "height": 68
        },
        "outputId": "0e695c8f-81ca-4c41-9a1c-cbd36d98c637"
      },
      "source": [
        "%%time \n",
        "\n",
        "# here too much data is imported - purely for convenience\n",
        "# will be optimised later\n",
        "x_mapper, labels_mapper, latent_rep_mapper, graphs_mapper, mapper_pipes_mapper = import_mapper(mapper_index)\n",
        "x_test, labels_test, latent_rep_test, graphs_test, mapper_pipes_test = import_mapper(test_index)\n",
        "\n",
        "# project the test data\n",
        "NRNN = 3\n",
        "latent_data_test = latent_rep_mapper.transform(x_test)\n",
        "\n",
        "#for each test data, translate its latent representation\n",
        "#into interval nrs\n",
        "intervals = []\n",
        "for mapper_pipe in mapper_pipes_mapper:\n",
        "    intervals.append(mapper_pipe[1].get_mapper_params()['cover'].get_fitted_intervals())\n",
        "\n",
        "fullalphas = []\n",
        "for latent_testp in latent_data_test:\n",
        "    alphas = []    \n",
        "    for n, latentv in enumerate(latent_testp):        \n",
        "        alphas.append(find_alphas(latentv, intervals[n]))\n",
        "    fullalphas.append(alphas)\n"
      ],
      "execution_count": 24,
      "outputs": [
        {
          "output_type": "stream",
          "text": [
            "[0.]\n",
            "CPU times: user 20.6 s, sys: 5.81 s, total: 26.4 s\n",
            "Wall time: 25.3 s\n"
          ],
          "name": "stdout"
        }
      ]
    },
    {
      "cell_type": "code",
      "metadata": {
        "id": "yT_iFYd5b7xZ",
        "colab_type": "code",
        "colab": {
          "base_uri": "https://localhost:8080/",
          "height": 105
        },
        "outputId": "d8d1f1e6-5bd4-4c9c-e9b9-4dc3451cb591"
      },
      "source": [
        "print(len(intervals))\n",
        "print(intervals[0])\n",
        "print(len(fullalphas))\n",
        "print(fullalphas[0])"
      ],
      "execution_count": 57,
      "outputs": [
        {
          "output_type": "stream",
          "text": [
            "15\n",
            "[(-inf, -6840.515541103925), (-7795.531011352855, -4901.54473787125), (-5856.56020812018, -2962.5739346385744), (-3917.5894048875043, -1023.6031314058991), (-1978.618601654829, 915.3676718267761), (-39.647798422154665, 2854.3384750594505), (1899.3230048105215, 4793.309278292127), (3838.2938080431977, 6732.280081524803), (5777.264611275872, 8671.250884757477), (7716.2354145085465, inf)]\n",
            "25000\n",
            "[(2, 3), (3, 4), (7, 8), (6, 7), (3, 4), (3, 4), (6, 7), (2, 3), (3, 4), (4,), (6,), (4, 5), (1, 2), (4,), (4, 5)]\n"
          ],
          "name": "stdout"
        }
      ]
    },
    {
      "cell_type": "code",
      "metadata": {
        "id": "FBTEcHoZdh7_",
        "colab_type": "code",
        "colab": {
          "base_uri": "https://localhost:8080/",
          "height": 445
        },
        "outputId": "e46bb3b4-6e69-45c6-ebab-73cc6e66d98f"
      },
      "source": [
        "%%time\n",
        "  \n",
        "#seach for NNeighbour in the preimage of intervals\n",
        "#precompute NNeighbour for preimage of each interval\n",
        "int_preim = []\n",
        "int_nn = {}\n",
        "\n",
        "#precompute dictionary of fitted NNeighbour for further use\n",
        "#currently use only single component\n",
        "#for n in range(len(intervals)):    \n",
        "n = 0\n",
        "int_preim_int = []\n",
        "print('n_intervals', len(intervals[n]))\n",
        "print(intervals[n])\n",
        "for i in range(len(intervals[n])):\n",
        "    nodeids = graphs_mapper[n]['node_metadata']['node_elements'][i] \n",
        "    print('nodeids:', len(nodeids))       \n",
        "    knn = NearestNeighbors(n_neighbors = NRNN, metric='euclidean')\n",
        "    knn.fit(x_mapper[nodeids])\n",
        "    int_preim_int.append(nodeids)\n",
        "    print(len(int_preim_int))\n",
        "    #knn is fitted knn using x_mapper[nodeids] subset of x_mapper \n",
        "    #nodeids are also saved to further reference them in the\n",
        "    #whole data\n",
        "    int_nn.update( {(n, tuple([i])): [knn, x_mapper[nodeids], np.array(nodeids)]} )\n",
        "    if(i > 0):\n",
        "        knn = NearestNeighbors(n_neighbors = NRNN, metric='euclidean')\n",
        "        union = list(set(nodeids) | set(int_preim_int[i-1]))\n",
        "        knn.fit(x_mapper[union])\n",
        "        int_nn.update( {(n, tuple([i-1,i])): [knn, x_mapper[union], np.array(union)]} )"
      ],
      "execution_count": 44,
      "outputs": [
        {
          "output_type": "stream",
          "text": [
            "n_intervals 10\n",
            "[(-inf, -6840.515541103925), (-7795.531011352855, -4901.54473787125), (-5856.56020812018, -2962.5739346385744), (-3917.5894048875043, -1023.6031314058991), (-1978.618601654829, 915.3676718267761), (-39.647798422154665, 2854.3384750594505), (1899.3230048105215, 4793.309278292127), (3838.2938080431977, 6732.280081524803), (5777.264611275872, 8671.250884757477), (7716.2354145085465, inf)]\n",
            "nodeids: 125\n",
            "1\n",
            "nodeids: 125\n",
            "2\n",
            "nodeids: 125\n",
            "3\n",
            "nodeids: 125\n",
            "4\n",
            "nodeids: 125\n",
            "5\n",
            "nodeids: 125\n",
            "6\n",
            "nodeids: 125\n",
            "7\n",
            "nodeids: 125\n",
            "8\n",
            "nodeids: 125\n",
            "9\n",
            "nodeids: 125\n",
            "10\n",
            "CPU times: user 2.33 s, sys: 30.9 ms, total: 2.37 s\n",
            "Wall time: 2.35 s\n"
          ],
          "name": "stdout"
        }
      ]
    },
    {
      "cell_type": "code",
      "metadata": {
        "id": "YkvExrLlhc5Y",
        "colab_type": "code",
        "colab": {
          "base_uri": "https://localhost:8080/",
          "height": 51
        },
        "outputId": "4ce71ba4-43ab-4868-f392-4bee06f89861"
      },
      "source": [
        "%%time\n",
        "#for each testpoint compute its representation by finding its NNeighbor\n",
        "nnids = []\n",
        "nndists = []\n",
        "for i in range(len(fullalphas)):    \n",
        "    nncompids = []\n",
        "    nncompdists = []\n",
        "    #for j in range(n_components):        \n",
        "    #compute this for only the first component (computing for all components is prohibitive)\n",
        "    j = 0 #take the first component\n",
        "    #compute knn with distances for each test point (search in the preimage of j-th component)        \n",
        "    inn = int_nn.get((j, fullalphas[i][j]))\n",
        "    if(len(inn[2]) > NRNN):\n",
        "        knn = inn[0].kneighbors([x_test[i]])\n",
        "        ids = inn[2][knn[1]]\n",
        "        nncompids.append(ids.squeeze())\n",
        "        nncompdists.append(knn[0].squeeze())\n",
        "    else:\n",
        "        ids = inn[2] #all available points\n",
        "        dists = np.linalg.norm(x_test[i]-inn[1], axis=1)            \n",
        "        nncompids.append(ids)\n",
        "        nncompdists.append(dists)\n",
        "        \n",
        "    nnids.append(nncompids) #for each test input , nnids stores a list (per filter function) of 5 NN global ids found in the preimage\n",
        "    nndists.append(nncompdists) #for each test input , nndists stores a list (per filter function) of 5 NN distances (corresp to the ones in nnids)"
      ],
      "execution_count": 47,
      "outputs": [
        {
          "output_type": "stream",
          "text": [
            "CPU times: user 1min 52s, sys: 2.33 ms, total: 1min 52s\n",
            "Wall time: 1min 52s\n"
          ],
          "name": "stdout"
        }
      ]
    },
    {
      "cell_type": "code",
      "metadata": {
        "id": "3gjePsTMhlqU",
        "colab_type": "code",
        "colab": {
          "base_uri": "https://localhost:8080/",
          "height": 68
        },
        "outputId": "06ca41d0-c971-492a-f358-d6ba6fc960fe"
      },
      "source": [
        "print(len(nnids), len(nndists))\n",
        "print(nnids[0:2])\n",
        "print(nndists[0:2])"
      ],
      "execution_count": 51,
      "outputs": [
        {
          "output_type": "stream",
          "text": [
            "25000 25000\n",
            "[[array([23037, 18128,  4603])], [array([13310, 22756, 22521])]]\n",
            "[[array([10732.80867248, 10732.80867248, 10732.80867248])], [array([11704.7759483, 11704.7759483, 11704.7759483])]]\n"
          ],
          "name": "stdout"
        }
      ]
    },
    {
      "cell_type": "code",
      "metadata": {
        "id": "7qQ2YPgXiVxw",
        "colab_type": "code",
        "colab": {
          "base_uri": "https://localhost:8080/",
          "height": 51
        },
        "outputId": "a8b4ce96-b1c8-4aa1-ac3a-3b0fe3675720"
      },
      "source": [
        "print(np.linalg.norm(x_mapper[0]-x_mapper[4603]))\n",
        "print(np.linalg.norm(x_mapper[1]-x_mapper[13310]))"
      ],
      "execution_count": 56,
      "outputs": [
        {
          "output_type": "stream",
          "text": [
            "10732.808672477116\n",
            "11704.77594830418\n"
          ],
          "name": "stdout"
        }
      ]
    },
    {
      "cell_type": "code",
      "metadata": {
        "id": "M4Uke9Hp6oom",
        "colab_type": "code",
        "outputId": "86dc7e05-6fc0-4160-8f93-27e5be428a1e",
        "colab": {
          "base_uri": "https://localhost:8080/",
          "height": 51
        }
      },
      "source": [
        "%%time\n",
        "\n",
        "#generate data matrix with test points representations\n",
        "#and save to npy file;\n",
        "#produced by using NNeighbour algorithm\n",
        "\n",
        "mu = 1e-05\n",
        "#change names of variables here\n",
        "neighbor_weights = np.ones_like(nndists)\n",
        "test_rep = np.zeros((x_test.shape[0], featlen_mapper))\n",
        "\n",
        "#ASSUMING BELOW, THAT SINGLE COMPONENT HAS BEEN COMPUTED \n",
        "#compute the weights for weighting the NN representations\n",
        "for i in range( len(nndists) ):\n",
        "    ns = nndists[i][0]\n",
        "    ns = 1./(ns + mu)\n",
        "    ns = ns / sum(ns)\n",
        "    neighbor_weights[i] = ns\n",
        "\n",
        "total_graphbinm = np.load('drive/My Drive/tiny-imagenet-200/PCA_15/matrix_train_mapper%d_cluster%d.npy' % (mapper_index, mapper_index))\n",
        "    \n",
        "#compute the representations using weighted NN\n",
        "for i  in range(len(nndists)):\n",
        "    ns = nnids[i]\n",
        "    features = neighbor_weights[i].reshape(1,NRNN).dot(total_graphbinm[ns, 3:].astype(float))\n",
        "    test_rep[i] = features\n",
        "\n",
        "total_test_rep = np.hstack([labels_test, test_rep])\n",
        "total_test_rep = np.float64(total_test_rep)\n",
        "print(total_test_rep.shape)\n",
        "np.save('drive/My Drive/tiny-imagenet-200/PCA_15/matrix_train_mapper%d_cluster%d_2.npy' % (mapper_index, test_index), total_test_rep)"
      ],
      "execution_count": 16,
      "outputs": [
        {
          "output_type": "stream",
          "text": [
            "CPU times: user 5 µs, sys: 0 ns, total: 5 µs\n",
            "Wall time: 7.87 µs\n"
          ],
          "name": "stdout"
        }
      ]
    },
    {
      "cell_type": "code",
      "metadata": {
        "id": "h4m-JkhV1J8u",
        "colab_type": "code",
        "outputId": "bdc6ac7f-4f3c-407d-dd26-7ddff7d6e34c",
        "colab": {
          "base_uri": "https://localhost:8080/",
          "height": 85
        }
      },
      "source": [
        "%%time\n",
        "test_mapper(1,1, featlen_1)"
      ],
      "execution_count": 17,
      "outputs": [
        {
          "output_type": "stream",
          "text": [
            "[0.]\n",
            "(25000, 5305)\n",
            "CPU times: user 2min 16s, sys: 9.61 s, total: 2min 25s\n",
            "Wall time: 2min 52s\n"
          ],
          "name": "stdout"
        }
      ]
    },
    {
      "cell_type": "code",
      "metadata": {
        "id": "tjWughV16pqY",
        "colab_type": "code",
        "outputId": "c90cef4a-5bf5-4ff1-ff88-846e50a029ca",
        "colab": {
          "base_uri": "https://localhost:8080/",
          "height": 68
        }
      },
      "source": [
        "test1 = np.load('drive/My Drive/tiny-imagenet-200/PCA_15/matrix_train_mapper1_cluster1.npy')\n",
        "test2 = np.load('drive/My Drive/tiny-imagenet-200/PCA_15/matrix_train_mapper1_cluster1_2.npy')\n",
        "print(test1.shape, test2.shape)\n",
        "print(type(test1[4][4]), type(test2[4][4]))\n",
        "print(np.unique(test2-test1))"
      ],
      "execution_count": 18,
      "outputs": [
        {
          "output_type": "stream",
          "text": [
            "(25000, 5305) (25000, 5305)\n",
            "<class 'numpy.float64'> <class 'numpy.float64'>\n",
            "[-1.  0.  1.]\n"
          ],
          "name": "stdout"
        }
      ]
    },
    {
      "cell_type": "code",
      "metadata": {
        "id": "OPB9dzV66jmz",
        "colab_type": "code",
        "outputId": "34698b92-4199-4029-bee9-d0f0610115ce",
        "colab": {
          "base_uri": "https://localhost:8080/",
          "height": 34
        }
      },
      "source": [
        "print(np.linalg.norm(test1-test2))"
      ],
      "execution_count": 19,
      "outputs": [
        {
          "output_type": "stream",
          "text": [
            "1062.4264680437889\n"
          ],
          "name": "stdout"
        }
      ]
    },
    {
      "cell_type": "code",
      "metadata": {
        "id": "reXtP18HXfws",
        "colab_type": "code",
        "colab": {
          "base_uri": "https://localhost:8080/",
          "height": 136
        },
        "outputId": "20da5f49-c2f1-4f19-84b6-b2e261839e84"
      },
      "source": [
        "labels_1"
      ],
      "execution_count": 20,
      "outputs": [
        {
          "output_type": "execute_result",
          "data": {
            "text/plain": [
              "array([[0.0000e+00, 1.4100e+02, 1.4100e+02],\n",
              "       [1.0000e+00, 1.1800e+02, 1.1800e+02],\n",
              "       [2.0000e+00, 4.7000e+01, 4.7000e+01],\n",
              "       ...,\n",
              "       [2.4997e+04, 9.9000e+01, 9.9000e+01],\n",
              "       [2.4998e+04, 1.3700e+02, 1.3700e+02],\n",
              "       [2.4999e+04, 5.8000e+01, 5.8000e+01]])"
            ]
          },
          "metadata": {
            "tags": []
          },
          "execution_count": 20
        }
      ]
    }
  ]
}